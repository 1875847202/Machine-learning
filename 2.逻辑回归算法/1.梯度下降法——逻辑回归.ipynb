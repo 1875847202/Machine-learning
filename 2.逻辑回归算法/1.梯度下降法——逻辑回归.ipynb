{
 "cells": [
  {
   "cell_type": "code",
   "execution_count": 60,
   "metadata": {},
   "outputs": [],
   "source": [
    "import matplotlib.pyplot as plt\n",
    "import numpy as np\n",
    "from sklearn.metrics import classification_report #评估模型\n",
    "from sklearn import preprocessing   #数据标准化\n",
    "#数据是否需要标准化\n",
    "scale = False  #设置为True需要标准化"
   ]
  },
  {
   "cell_type": "code",
   "execution_count": 29,
   "metadata": {},
   "outputs": [
    {
     "data": {
      "image/png": "[encoded data removed]",
      "text/plain": [
       "<Figure size 432x288 with 1 Axes>"
      ]
     },
     "metadata": {
      "needs_background": "light"
     },
     "output_type": "display_data"
    }
   ],
   "source": [
    "#载入数据\n",
    "data = np.genfromtxt(r'LR-testSet.csv',delimiter=',')\n",
    "x_data = data[:,:-1]\n",
    "y_data = data[:,-1]   #左闭右开\n",
    "\n",
    "#数据有两个feature\n",
    "\n",
    "#数据预分类\n",
    "def plot():\n",
    "    x0 = [] #0类别的feature1\n",
    "    y0 = [] #0类别的featurn2\n",
    "    x1 = [] #1类别的feature1\n",
    "    y1 = [] #1类别的feature2\n",
    "    \n",
    "    #切分不同类别的数据\n",
    "    for i in range(len(x_data)):\n",
    "        if y_data[i] == 0:\n",
    "            x0.append(x_data[i,0])\n",
    "            y0.append(x_data[i,1])\n",
    "        else:\n",
    "            x1.append(x_data[i,0])\n",
    "            y1.append(x_data[i,1])\n",
    "    #画图\n",
    "    scatter0 = plt.scatter(x0,y0,c='b',marker='o')\n",
    "    scatter1 = plt.scatter(x1,y1,c='r',marker='x')\n",
    "    #画图例\n",
    "    plt.legend(handles=[scatter0,scatter1],labels=['label0','label1'],loc='best')\n",
    "    \n",
    "plot()\n",
    "plt.show()"
   ]
  },
  {
   "cell_type": "code",
   "execution_count": 51,
   "metadata": {},
   "outputs": [
    {
     "name": "stdout",
     "output_type": "stream",
     "text": [
      "(100, 2)\n",
      "(100, 1)\n",
      "(100, 3)\n"
     ]
    }
   ],
   "source": [
    "#数据处理\n",
    "x_data = data[:,:-1]\n",
    "y_data = data[:,-1,np.newaxis]\n",
    "\n",
    "print(np.mat(x_data).shape)\n",
    "print(np.mat(y_data).shape)\n",
    "\n",
    "#给样本添加偏置项\n",
    "X_data = np.concatenate((np.ones((100,1)),x_data),axis=1)\n",
    "print(X_data.shape)"
   ]
  },
  {
   "cell_type": "code",
   "execution_count": 80,
   "metadata": {},
   "outputs": [],
   "source": [
    "#激活函数\n",
    "def signoid(x):\n",
    "    return 1.0/(1 + np.exp(-x))\n",
    "\n",
    "#损失函数\n",
    "def cost(xMat,yMat,ws):\n",
    "    left = np.multiply(yMat,np.log(signoid(xMat*ws)))\n",
    "    right = np.multiply(1 - yMat,np.log(1 - signoid(xMat*ws)))\n",
    "    return np.sum(left + right) / (len(xMat))\n",
    "\n",
    "#梯度下降法\n",
    "def gradAscent(xArr,yArr):\n",
    "    \n",
    "    if scale == True:\n",
    "        xArr = preprocessing.scale(xArr)\n",
    "    xMat = np.mat(xArr)\n",
    "    yMat = np.mat(yArr)\n",
    "    \n",
    "    lr = 0.001\n",
    "    epochs = 10000\n",
    "    costtList = []\n",
    "    #计算数据行列数\n",
    "    #行代表数据个数，列代表权值个数(特征个数)\n",
    "    m,n = np.shape(xMat)\n",
    "    #初始化权值\n",
    "    ws = np.mat(np.ones((n,1)))\n",
    "    \n",
    "    for i in range(epochs+1):       #加1的目的就是为了为了最后达到9999后无法输出的问题\n",
    "        #xMat矩阵与weights相乘\n",
    "        h = signoid(xMat*ws)\n",
    "        #计算误差\n",
    "        ws_grad = xMat.T*(h - yMat)/m\n",
    "        ws = ws - lr*ws_grad\n",
    "        \n",
    "        if i % 50 == 0:\n",
    "            costtList.append(cost(xMat,yMat,ws))\n",
    "    return ws,costtList"
   ]
  },
  {
   "cell_type": "code",
   "execution_count": 79,
   "metadata": {},
   "outputs": [
    {
     "name": "stdout",
     "output_type": "stream",
     "text": [
      "(3, 1)\n",
      "(3, 100)\n"
     ]
    }
   ],
   "source": [
    "#训练模型，得到权值和cost的变化\n",
    "ws,costList = gradAscent(X_data,y_data)\n",
    "print(ws.shape)"
   ]
  },
  {
   "cell_type": "code",
   "execution_count": 59,
   "metadata": {},
   "outputs": [
    {
     "data": {
      "image/png": "[encoded data removed]",
      "text/plain": [
       "<Figure size 432x288 with 1 Axes>"
      ]
     },
     "metadata": {
      "needs_background": "light"
     },
     "output_type": "display_data"
    }
   ],
   "source": [
    "data = np.genfromtxt(r'LR-testSet.csv',delimiter=',')\n",
    "x_data = data[:,:-1]\n",
    "y_data = data[:,-1]\n",
    "\n",
    "#数据预分类\n",
    "def plot():\n",
    "    \n",
    "    x0 = []    #第零类的特征1\n",
    "    y0 = []    #第零类的特征2\n",
    "    x1 = []    #第一类的特征1\n",
    "    y1 = []    #第一类的特征2\n",
    "    \n",
    "    for i in range(len(x_data)):\n",
    "        if y_data[i] == 0:\n",
    "            x0.append(x_data[i,0])\n",
    "            y0.append(x_data[i,1])\n",
    "        else:\n",
    "            x1.append(x_data[i,0])\n",
    "            y1.append(x_data[i,1])\n",
    "            \n",
    "    #画图\n",
    "    scatter0 = plt.scatter(x0,y0,c='b',marker='o')\n",
    "    scatter1 = plt.scatter(x1,y1,c='r',marker='x')\n",
    "\n",
    "plot()\n",
    "plt.show()"
   ]
  },
  {
   "cell_type": "code",
   "execution_count": 77,
   "metadata": {},
   "outputs": [],
   "source": [
    "#激活函数定义\n",
    "def sigmoid(x):\n",
    "    return 1 / (1 + np.exp(-x))\n",
    "    \n",
    "#Loss函数\n",
    "def cost(xMat,yMat,weights):\n",
    "    left = np.multiply(yMat,np.log(sigmoid(xMat*weights)))\n",
    "    right = np.multiply(1 - yMat,np.log(1 - sigmoid(xMat*weights)))\n",
    "    return np.sum(left + right)/len(xMat)\n",
    "\n",
    "#梯度下降\n",
    "def grad(xArr,yArr):\n",
    "    #学习率、迭代次数\n",
    "    lr = 0.0001\n",
    "    epochs = 10000\n",
    "    costList = []\n",
    "    \n",
    "    \n",
    "    #将数据转化为矩阵\n",
    "    xMat = np.mat(xArr)\n",
    "    yMat = np.mat(yArr)\n",
    "    \n",
    "    #初始化权重矩阵\n",
    "    m,n = np.shape(xMat)\n",
    "    weights = np.ones((n,1))  #数据的特征数等于权重向量的位数\n",
    "    \n",
    "    for i in range(epochs):\n",
    "        f_w = sigmoid(xMat*weights)\n",
    "        weights_grad = xMat.T*(f_w - yMat)/m\n",
    "        \n",
    "        #参数更新\n",
    "        weights = weights - lr*weights_grad\n",
    "        \n",
    "        if i % 50 == 0:          #隔50次保存一次cost的值\n",
    "            costList.append(cost(xMat,yMat,weights))\n",
    "    return weights,costList"
   ]
  },
  {
   "cell_type": "code",
   "execution_count": null,
   "metadata": {},
   "outputs": [],
   "source": []
  }
 ],
 "metadata": {
  "kernelspec": {
   "display_name": "Python 3",
   "language": "python",
   "name": "python3"
  },
  "language_info": {
   "codemirror_mode": {
    "name": "ipython",
    "version": 3
   },
   "file_extension": ".py",
   "mimetype": "text/x-python",
   "name": "python",
   "nbconvert_exporter": "python",
   "pygments_lexer": "ipython3",
   "version": "3.8.5"
  }
 },
 "nbformat": 4,
 "nbformat_minor": 4
}
