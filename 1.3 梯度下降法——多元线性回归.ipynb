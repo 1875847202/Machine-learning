{
 "cells": [
  {
   "cell_type": "code",
   "execution_count": 62,
   "metadata": {},
   "outputs": [],
   "source": [
    "import numpy as np\n",
    "from numpy import genfromtxt\n",
    "import matplotlib.pyplot as plt\n",
    "from mpl_toolkits.mplot3d import Axes3D"
   ]
  },
  {
   "cell_type": "code",
   "execution_count": 63,
   "metadata": {},
   "outputs": [
    {
     "name": "stdout",
     "output_type": "stream",
     "text": [
      "[[100.    4.    9.3]\n",
      " [ 50.    3.    4.8]\n",
      " [100.    4.    8.9]\n",
      " [100.    2.    6.5]\n",
      " [ 50.    2.    4.2]\n",
      " [ 80.    2.    6.2]\n",
      " [ 75.    3.    7.4]\n",
      " [ 65.    4.    6. ]\n",
      " [ 90.    3.    7.6]\n",
      " [ 90.    2.    6.1]]\n"
     ]
    }
   ],
   "source": [
    "#加载数据\n",
    "data = genfromtxt(r\"Delivery.csv\",delimiter=',')\n",
    "print(data)"
   ]
  },
  {
   "cell_type": "code",
   "execution_count": 64,
   "metadata": {},
   "outputs": [
    {
     "name": "stdout",
     "output_type": "stream",
     "text": [
      "[[100.   4.]\n",
      " [ 50.   3.]\n",
      " [100.   4.]\n",
      " [100.   2.]\n",
      " [ 50.   2.]\n",
      " [ 80.   2.]\n",
      " [ 75.   3.]\n",
      " [ 65.   4.]\n",
      " [ 90.   3.]\n",
      " [ 90.   2.]]\n",
      "[9.3 4.8 8.9 6.5 4.2 6.2 7.4 6.  7.6 6.1]\n"
     ]
    }
   ],
   "source": [
    "#切分数据\n",
    "x_data = data[:,:-1]\n",
    "y_data = data[:,-1]\n",
    "print(x_data)\n",
    "print(y_data)"
   ]
  },
  {
   "cell_type": "code",
   "execution_count": 79,
   "metadata": {},
   "outputs": [],
   "source": [
    "#学习率\n",
    "lr = 0.0001\n",
    "#参数\n",
    "theta0 = 0\n",
    "theta1 = 0\n",
    "theta2 = 0\n",
    "\n",
    "#最大迭代次数\n",
    "epochs = 1000\n",
    "\n",
    "#最小二乘法\n",
    "\n",
    "def compute_error(theta0,theta1,theta2,x_data,y_data):\n",
    "    totalerror = 0\n",
    "    for i in range(len(0,x_data)):\n",
    "        totalerror += (y_data[i] - (theta1*x_data[i,0] - theta2*x_data[i,1] + theta0))**2\n",
    "    return totalerror/float(len(x_data))\n",
    "\n",
    "#梯度下降法\n",
    "def gradient_descent_method(x_data,y_data,theta0,theta1,theta2,lr,epochs):\n",
    "    #计算总的数据量\n",
    "    m = float(len(x_data))\n",
    "    \n",
    "    for i in range(epochs):\n",
    "        theta0_grad = 0\n",
    "        theta1_grad = 0\n",
    "        theta2_grad = 0\n",
    "        #计算求和，然后计算平均\n",
    "        for j in range(0,len(x_data)):\n",
    "            theta0_grad += (1/m)*(y_data[j] - (theta1*x_data[j,0] + theta2*x_data[j,1] + theta0))\n",
    "            theta1_grad += (1/m)*(y_data[j] - (theta1*x_data[j,0] + theta2*x_data[j,1] + theta0))*x_data[j,0]\n",
    "            theta2_grad += (1/m)*(y_data[j] - (theta1*x_data[j,0] + theta2*x_data[j,1] + theta0))*x_data[j,1]\n",
    "        #更新参数\n",
    "        \n",
    "        theta0  = theta0 - lr*theta0_grad\n",
    "        theta1  = theta1 - lr*theta1_grad\n",
    "        theta2  = theta2 - lr*theta2_grad\n",
    "    return theta0,theta1,theta2  \n",
    "        "
   ]
  },
  {
   "cell_type": "code",
   "execution_count": 80,
   "metadata": {},
   "outputs": [
    {
     "name": "stdout",
     "output_type": "stream",
     "text": [
      "after 1000 iterations theta0 = -1.298633992544752e+221 theta1 = -1.094846092908564e+223 theta2 = -3.806952720058741e+221\n"
     ]
    }
   ],
   "source": [
    "theta0,theta1,theta2 = gradient_descent_method(x_data,y_data,theta0,theta1,theta2,lr,epochs)\n",
    "print(\"after {0} iterations theta0 = {1} theta1 = {2} theta2 = {3}\".format(epochs,theta0,theta1,theta2))"
   ]
  },
  {
   "cell_type": "code",
   "execution_count": 81,
   "metadata": {},
   "outputs": [
    {
     "data": {
      "image/png": "[encoded data removed]",
      "text/plain": [
       "<Figure size 432x288 with 1 Axes>"
      ]
     },
     "metadata": {
      "needs_background": "light"
     },
     "output_type": "display_data"
    }
   ],
   "source": [
    "ax = plt.figure().add_subplot(111,projection = '3d')\n",
    "ax.scatter(x_data[:,0],x_data[:,1],y_data, c = 'r',marker = 'o',s = 100)\n",
    "x0 = x_data[:,0]\n",
    "x1 = x_data[:,1]\n",
    "\n",
    "x0,x1 = np.meshgrid(x0,x1)\n",
    "z = theta0 + theta1*x0 + theta2*x1\n",
    "\n",
    "ax.plot_surface(x0,x1,z)\n",
    "\n",
    "plt.show()"
   ]
  }
 ],
 "metadata": {
  "kernelspec": {
   "display_name": "Python 3",
   "language": "python",
   "name": "python3"
  },
  "language_info": {
   "codemirror_mode": {
    "name": "ipython",
    "version": 3
   },
   "file_extension": ".py",
   "mimetype": "text/x-python",
   "name": "python",
   "nbconvert_exporter": "python",
   "pygments_lexer": "ipython3",
   "version": "3.8.5"
  }
 },
 "nbformat": 4,
 "nbformat_minor": 4
}
