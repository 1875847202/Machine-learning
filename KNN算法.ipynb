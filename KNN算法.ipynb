{
 "cells": [
  {
   "cell_type": "markdown",
   "metadata": {},
   "source": [
    "## KNN分类算法\n"
   ]
  },
  {
   "cell_type": "code",
   "execution_count": 2,
   "metadata": {},
   "outputs": [
    {
     "data": {
      "text/plain": [
       "dict_keys(['data', 'target', 'frame', 'target_names', 'DESCR', 'feature_names', 'filename'])"
      ]
     },
     "execution_count": 2,
     "metadata": {},
     "output_type": "execute_result"
    }
   ],
   "source": [
    "from sklearn import datasets\n",
    "#选择鸢尾花数据集\n",
    "iris = datasets.load_iris()\n",
    "#数据集里面的属性和特征\n",
    "iris.keys()"
   ]
  },
  {
   "cell_type": "code",
   "execution_count": 13,
   "metadata": {},
   "outputs": [
    {
     "data": {
      "text/plain": [
       "['sepal length (cm)',\n",
       " 'sepal width (cm)',\n",
       " 'petal length (cm)',\n",
       " 'petal width (cm)']"
      ]
     },
     "execution_count": 13,
     "metadata": {},
     "output_type": "execute_result"
    }
   ],
   "source": [
    "#特征名称\n",
    "iris.feature_names  #花萼长宽和花瓣长宽"
   ]
  },
  {
   "cell_type": "code",
   "execution_count": 14,
   "metadata": {},
   "outputs": [
    {
     "data": {
      "text/plain": [
       "(150, 4)"
      ]
     },
     "execution_count": 14,
     "metadata": {},
     "output_type": "execute_result"
    }
   ],
   "source": [
    "#查看数据个数与特征数\n",
    "iris.data.shape"
   ]
  },
  {
   "cell_type": "code",
   "execution_count": 6,
   "metadata": {},
   "outputs": [
    {
     "data": {
      "text/plain": [
       "array([0, 0, 0, 0, 0, 0, 0, 0, 0, 0, 0, 0, 0, 0, 0, 0, 0, 0, 0, 0, 0, 0,\n",
       "       0, 0, 0, 0, 0, 0, 0, 0, 0, 0, 0, 0, 0, 0, 0, 0, 0, 0, 0, 0, 0, 0,\n",
       "       0, 0, 0, 0, 0, 0, 1, 1, 1, 1, 1, 1, 1, 1, 1, 1, 1, 1, 1, 1, 1, 1,\n",
       "       1, 1, 1, 1, 1, 1, 1, 1, 1, 1, 1, 1, 1, 1, 1, 1, 1, 1, 1, 1, 1, 1,\n",
       "       1, 1, 1, 1, 1, 1, 1, 1, 1, 1, 1, 1, 2, 2, 2, 2, 2, 2, 2, 2, 2, 2,\n",
       "       2, 2, 2, 2, 2, 2, 2, 2, 2, 2, 2, 2, 2, 2, 2, 2, 2, 2, 2, 2, 2, 2,\n",
       "       2, 2, 2, 2, 2, 2, 2, 2, 2, 2, 2, 2, 2, 2, 2, 2, 2, 2])"
      ]
     },
     "execution_count": 6,
     "metadata": {},
     "output_type": "execute_result"
    }
   ],
   "source": [
    "#表示类别\n",
    "iris.target"
   ]
  },
  {
   "cell_type": "code",
   "execution_count": 31,
   "metadata": {},
   "outputs": [
    {
     "data": {
      "text/plain": [
       "(150, 4)"
      ]
     },
     "execution_count": 31,
     "metadata": {},
     "output_type": "execute_result"
    }
   ],
   "source": [
    "X = iris.data    #特征数据\n",
    "y = iris.target  #类别\n",
    "X.shape"
   ]
  },
  {
   "cell_type": "code",
   "execution_count": 8,
   "metadata": {},
   "outputs": [],
   "source": [
    "#特征：花萼长款，花瓣长款（共四个算法）\n",
    "#类别：0,1,2\n",
    "\n",
    "#分类算法：通过学习或者训练150个样本，判断一朵鸢尾花属于哪一类"
   ]
  },
  {
   "cell_type": "markdown",
   "metadata": {},
   "source": [
    "### 数据可视化"
   ]
  },
  {
   "cell_type": "code",
   "execution_count": 18,
   "metadata": {},
   "outputs": [],
   "source": [
    "import matplotlib.pyplot as plt\n",
    "import numpy as np"
   ]
  },
  {
   "cell_type": "code",
   "execution_count": 64,
   "metadata": {},
   "outputs": [],
   "source": [
    "# plt.scatter(X[:,0],X[:,1],c='r',marker='o')\n",
    "# plt.show()\n",
    "\n",
    "#我们要画一张能够体现不同类别的鸢尾花花萼长宽分布图\n",
    "#散点图，帮助我们分析不同的特征之间的关系\n",
    "\n",
    "#随便造一个鸢尾花数据\n",
    "x = np.array([8.0,3.0,4.0,1.4])"
   ]
  },
  {
   "cell_type": "code",
   "execution_count": 65,
   "metadata": {},
   "outputs": [
    {
     "data": {
      "image/png": "[encoded data removed]",
      "text/plain": [
       "<Figure size 432x288 with 1 Axes>"
      ]
     },
     "metadata": {
      "needs_background": "light"
     },
     "output_type": "display_data"
    },
    {
     "data": {
      "image/png": "[encoded data removed]",
      "text/plain": [
       "<Figure size 432x288 with 1 Axes>"
      ]
     },
     "metadata": {
      "needs_background": "light"
     },
     "output_type": "display_data"
    }
   ],
   "source": [
    "#比较运算（花式索引）\n",
    "plt.scatter(X[y==0,0],X[y==0,1])  #花萼长宽\n",
    "plt.scatter(X[y==1,0],X[y==1,1])\n",
    "plt.scatter(X[y==2,0],X[y==2,1])\n",
    "plt.scatter(x[0],x[1],c='b',marker='x')\n",
    "plt.show()\n",
    "\n",
    "plt.scatter(X[y==0,2],X[y==0,3])  #花瓣长宽\n",
    "plt.scatter(X[y==1,2],X[y==1,3])\n",
    "plt.scatter(X[y==2,2],X[y==2,3])\n",
    "plt.scatter(x[2],x[3],c='b',marker='x')\n",
    "plt.show()"
   ]
  },
  {
   "cell_type": "markdown",
   "metadata": {},
   "source": [
    "## KNN分类算法实现\n",
    "idea:新的鸢尾花特征数据，更靠近哪一类，那就是哪一类\n",
    "\n",
    "离样本点（测试点）最近的K个点，在最近的K个点里面，哪一类别最多，那就是哪一类\n",
    "\n",
    "1.算距离\n",
    "\n",
    "2.对距离排序并且去前K名\n",
    "\n",
    "3.对这个K个样本点进行统计，得到哪一类最多"
   ]
  },
  {
   "cell_type": "code",
   "execution_count": 66,
   "metadata": {},
   "outputs": [
    {
     "name": "stdout",
     "output_type": "stream",
     "text": [
      "新的鸢尾花属于第1类\n"
     ]
    }
   ],
   "source": [
    "#1.算距离：坐标系里面，两点间距离怎么算，sqrt((x1 - x2)^2 + (y1 - y2)^2)\n",
    "distance = np.sqrt(np.sum((X - x)**2,axis=1))  #对特征求和,算距离\n",
    "\n",
    "#2.对距离排序求前K名\n",
    "K = 10\n",
    "y1 = y[np.argpartition(distance,K)[:K]]   #拿到类别\n",
    "\n",
    "#3.统计计数\n",
    "from collections import Counter  #自动计数\n",
    "votes = Counter(y1)\n",
    "\n",
    "print('新的鸢尾花属于第{}类'.format(votes.most_common(1)[0][0]))"
   ]
  },
  {
   "cell_type": "markdown",
   "metadata": {},
   "source": [
    "### 函数封装"
   ]
  },
  {
   "cell_type": "code",
   "execution_count": 75,
   "metadata": {},
   "outputs": [
    {
     "name": "stdout",
     "output_type": "stream",
     "text": [
      "新的鸢尾花属于第1类\n"
     ]
    }
   ],
   "source": [
    "#封装\n",
    "def KNN_classifer(K,X,y,x):\n",
    "    #1.算距离：坐标系里面，两点间距离怎么算，sqrt((x1 - x2)^2 + (y1 - y2)^2)\n",
    "    distance = np.sqrt(np.sum((X - x)**2,axis=1))  #对特征求和,算距离\n",
    "\n",
    "    #2.对距离排序求前K名\n",
    "    y1 = y[np.argpartition(distance,K)[:K]]  #拿到类别\n",
    "\n",
    "    #3.统计计数\n",
    "    from collections import Counter  #自动计数\n",
    "    votes = Counter(y1)\n",
    "\n",
    "    print('新的鸢尾花属于第{}类'.format(votes.most_common(1)[0][0]))\n",
    "    \n",
    "x = np.array([9.0,3.1,3.4,2.5])\n",
    "KNN_classifer(9,X,y,x)\n",
    "    \n",
    "    "
   ]
  },
  {
   "cell_type": "markdown",
   "metadata": {},
   "source": [
    "### 类封装"
   ]
  },
  {
   "cell_type": "code",
   "execution_count": 136,
   "metadata": {},
   "outputs": [],
   "source": [
    "from collections import Counter\n",
    "class KNNClassifier:\n",
    "    \n",
    "    def __init__(self,K=7):\n",
    "        self.K = K\n",
    "        self._X_train = None   #训练数据对外不可见\n",
    "        self._y_train = None\n",
    "        \n",
    "    #学习训练数据\n",
    "    def fit(self,X_train,y_train):\n",
    "        self._X_train = X_train\n",
    "        self._y_train = y_train\n",
    "            \n",
    "    #对多个样本做分类预测\n",
    "    def predict(self,X_predict):  #对多个样本做分类预测\n",
    "        y_predict = np.array([self._predict(x) for x in X_predict])\n",
    "        return y_predict\n",
    "            \n",
    "    #对一个样本做分类预测    \n",
    "    def predict_(self,x):\n",
    "        distance = np.sqrt(np.sum((self._X_train - x)**2,axis=1))\n",
    "        y1 = self._y_train[np.argpartition(distance,self.K)[:self.K]]\n",
    "        votes = Counter(y1)\n",
    "        return votes.most_common(1)[0][0]\n",
    "        \n",
    "knn = KNNClassifier()\n",
    "knn.fit(X,y)\n"
   ]
  },
  {
   "cell_type": "code",
   "execution_count": 144,
   "metadata": {},
   "outputs": [
    {
     "data": {
      "text/plain": [
       "array([0, 0, 0, 0, 0, 0, 0, 0, 0, 0, 0, 0, 0, 0, 0, 0, 0, 0, 0, 0, 0, 0,\n",
       "       0, 0, 0, 0, 0, 0, 0, 0, 0, 0, 0, 0, 0, 0, 0, 0, 0, 0, 0, 0, 0, 0,\n",
       "       0, 0, 0, 0, 0, 0, 1, 1, 1, 1, 1, 1, 1, 1, 1, 1, 1, 1, 1, 1, 1, 1,\n",
       "       1, 1, 1, 1, 2, 1, 2, 1, 1, 1, 1, 1, 1, 1, 1, 1, 1, 2, 1, 1, 1, 1,\n",
       "       1, 1, 1, 1, 1, 1, 1, 1, 1, 1, 1, 1, 2, 2, 2, 2, 2, 2, 1, 2, 2, 2,\n",
       "       2, 2, 2, 2, 2, 2, 2, 2, 2, 2, 2, 2, 2, 2, 2, 2, 2, 2, 2, 2, 2, 2,\n",
       "       2, 2, 2, 2, 2, 2, 2, 2, 2, 2, 2, 2, 2, 2, 2, 2, 2, 2])"
      ]
     },
     "execution_count": 144,
     "metadata": {},
     "output_type": "execute_result"
    }
   ],
   "source": [
    "class KnnClassifier:\n",
    "    def __init__(self,K):\n",
    "        self.K = K\n",
    "        self._X_train = None\n",
    "        self._y_train = None\n",
    "        \n",
    "        #print(self._X_train)\n",
    "        \n",
    "    #学习训练数据\n",
    "    def fit_(self,X_train,y_train):\n",
    "        self._X_train = X_train\n",
    "        self._y_train = y_train\n",
    "    #对多个样本分类预测\n",
    "    def predict(self,X_predict):\n",
    "        y_predict = np.array([self._predict(x) for x in X_predict])\n",
    "        return y_predict\n",
    "    \n",
    "    #对一个新样本分类预测\n",
    "    def _predict(self,x):\n",
    "        distance = np.sqrt(np.sum((self._X_train - x)**2,axis=1))\n",
    "        y1 = self._y_train[np.argpartition(distance,self.K)[:self.K]] \n",
    "        votes = Counter(y1)\n",
    "        return votes.most_common(1)[0][0]\n",
    "        \n",
    "knn = KnnClassifier(7)\n",
    "knn.fit_(X,y)\n",
    "knn.predict(X)\n",
    "        \n",
    "        "
   ]
  },
  {
   "cell_type": "code",
   "execution_count": 146,
   "metadata": {},
   "outputs": [],
   "source": [
    "#预测准确度：自己实现下怎么计算"
   ]
  }
 ],
 "metadata": {
  "kernelspec": {
   "display_name": "Python 3",
   "language": "python",
   "name": "python3"
  },
  "language_info": {
   "codemirror_mode": {
    "name": "ipython",
    "version": 3
   },
   "file_extension": ".py",
   "mimetype": "text/x-python",
   "name": "python",
   "nbconvert_exporter": "python",
   "pygments_lexer": "ipython3",
   "version": "3.8.5"
  }
 },
 "nbformat": 4,
 "nbformat_minor": 4
}
